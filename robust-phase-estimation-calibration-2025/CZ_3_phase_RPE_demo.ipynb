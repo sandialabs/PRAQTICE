{
 "cells": [
  {
   "cell_type": "code",
   "execution_count": 1,
   "id": "7412a6bc",
   "metadata": {},
   "outputs": [
    {
     "name": "stderr",
     "output_type": "stream",
     "text": [
      "/Users/kmrudin/venvs/rpe/lib/python3.10/site-packages/pygsti/baseobjs/opcalc/__init__.py:31: UserWarning: \n",
      "An optimized Cython-based implementation of `pygsti.baseobjs.opcalc` is available as\n",
      "an extension, but couldn't be imported. This might happen if the\n",
      "extension has not been built. `pip install cython`, then reinstall\n",
      "pyGSTi to build Cython extensions. Alternatively, setting the\n",
      "environment variable `PYGSTI_NO_CYTHON_WARNING` will suppress this\n",
      "message.\n",
      "\n",
      "  _warnings.warn(warn_msg)\n",
      "/Users/kmrudin/venvs/rpe/lib/python3.10/site-packages/pygsti/modelmembers/operations/lindbladcoefficients.py:22: UserWarning: Could not import cython module `fastcalc`. This may indicate that your cython extensions for pyGSTi failed to.properly build. Lack of cython extensions can result in significant performance degredation so we recommend trying to rebuild them.Falling back to numpy implementation for triu_indices.\n",
      "  _warnings.warn(msg)\n",
      "/Users/kmrudin/venvs/rpe/lib/python3.10/site-packages/pygsti/circuits/circuitparser/__init__.py:60: UserWarning: \n",
      "An optimized Cython-based implementation of `pygsti.circuits.circuitparser` is available as\n",
      "an extension, but couldn't be imported. This might happen if the\n",
      "extension has not been built. `pip install cython`, then reinstall\n",
      "pyGSTi to build Cython extensions. Alternatively, setting the\n",
      "environment variable `PYGSTI_NO_CYTHON_WARNING` will suppress this\n",
      "message.\n",
      "\n",
      "  _warnings.warn(warn_msg)\n"
     ]
    }
   ],
   "source": [
    "from quapack.pyRPE import RobustPhaseEstimation\n",
    "from quapack.pyRPE.quantum import Q\n",
    "import numpy as np\n",
    "import pygsti#You may get a warning about Cython here; ignore it.\n",
    "%matplotlib inline\n",
    "import matplotlib.pyplot as plt\n",
    "import scipy\n",
    "from pygsti.modelpacks import smq2Q_XYICPHASE"
   ]
  },
  {
   "cell_type": "markdown",
   "id": "9bbfcd07",
   "metadata": {},
   "source": [
    "# Overview\n",
    "This notebook is supplemental material for arXiv:2502.06698 (\"Heisenberg-limited calibration of entangling gates with robust phase estimation\").  It demonstrates how to perform RPE using the pyRPE and pyGSTi packages.  (See README.txt for installation instructions.)"
   ]
  },
  {
   "cell_type": "markdown",
   "id": "483d0d15",
   "metadata": {},
   "source": [
    "# Background\n",
    "Let CZ$[\\theta_{IZ},\\theta_{ZI},\\theta_{ZZ}] = e^{-\\tfrac{i}{2}\\left(-\\tfrac{\\pi}{2}II+\\theta_{IZ}IZ + \\theta_{ZI} ZI + \\theta_{ZZ}ZZ\\right)}$.\n",
    "\n",
    "If $\\theta_{IZ}=\\theta_{ZI}=-\\theta_{ZZ}=\\tfrac{\\pi}{2}$ then CZ$[\\theta_{IZ},\\theta_{ZI},\\theta_{ZZ}]=\\text{diag}[1,1,1,-1]=CZ$"
   ]
  },
  {
   "cell_type": "markdown",
   "id": "ea2fa155",
   "metadata": {},
   "source": [
    "The eigenvectors of CZ$[\\theta_{IZ},\\theta_{ZI},\\theta_{ZZ}]$ are just $\\{|00\\rangle,|01\\rangle,|10\\rangle,|11\\rangle\\}$.\n",
    "\n",
    "The corresponding eigenvalues are (up to global phase) are\n",
    "\n",
    "$\\lambda_{00}=e^{-\\tfrac{i}{2}\\left(\\theta_{IZ}+\\theta_{ZI}+\\theta_{ZZ}\\right)}$\n",
    "\n",
    "$\\lambda_{01}=e^{-\\tfrac{i}{2}\\left(-\\theta_{IZ}+\\theta_{ZI}-\\theta_{ZZ}\\right)}$\n",
    "\n",
    "$\\lambda_{10}=e^{-\\tfrac{i}{2}\\left(\\theta_{IZ}-\\theta_{ZI}-\\theta_{ZZ}\\right)}$\n",
    "\n",
    "$\\lambda_{11}=e^{-\\tfrac{i}{2}\\left(-\\theta_{IZ}-\\theta_{ZI}+\\theta_{ZZ}\\right)}$\n",
    "\n",
    "Each eigenphase $\\phi_{pq}$ is given by $\\phi_{pq}=i\\log{\\lambda_{pq}}$, or:\n",
    "\n",
    "$\\phi_{00}=(\\theta_{IZ}+\\theta_{ZI}+\\theta_{ZZ})/2$\n",
    "\n",
    "$\\phi_{01}=(-\\theta_{IZ}+\\theta_{ZI}-\\theta_{ZZ})/2$\n",
    "\n",
    "$\\phi_{10}=(\\theta_{IZ}-\\theta_{ZI}-\\theta_{ZZ})/2$\n",
    "\n",
    "$\\phi_{11}=(-\\theta_{IZ}-\\theta_{ZI}+\\theta_{ZZ})/2$\n",
    "\n",
    "We wish to learn $\\theta_{IZ}$, $\\theta_{ZI}$ and $\\theta_{ZZ}$.  Via RPE we will learn relative phase differences (i.e., eigenphase differences) $\\phi_{(pq,rs)}=\\phi_{pq}-\\phi_{rs}$ which will in turn allow us to learn $\\theta_{IZ}$, $\\theta_{ZI}$ and $\\theta_{ZZ}$ by linear inversion. \n",
    "\n",
    "We choose to learn the following $\\phi_{pq,rs}$ quantities:\n",
    "\n",
    "$\\phi_{(00,01)}=\\theta_{IZ}+\\theta_{ZZ}$\n",
    "\n",
    "$\\phi_{(10,11)}=\\theta_{IZ}-\\theta_{ZZ}$\n",
    "\n",
    "$\\phi_{(01,11)}=\\theta_{ZI}-\\theta_{ZZ}$\n"
   ]
  },
  {
   "cell_type": "markdown",
   "id": "0ded9fb1",
   "metadata": {},
   "source": [
    "To describe the RPE circuits used for learning $\\phi_{(pq,rs)}$ we first define the following states and observables:\n",
    "\n",
    "$|\\pm x_{(pq,rs)}\\rangle:=\\tfrac{1}{\\sqrt{2}}\\left(|pq\\rangle\\pm|rs\\rangle\\right)$\n",
    "\n",
    "$|\\pm y_{(pq,rs)}\\rangle:=\\tfrac{1}{\\sqrt{2}}\\left(|pq\\rangle\\pm i|rs\\rangle\\right)$\n",
    "\n",
    "$I_{(pq,rs)} = |+x_{(pq,rs)}\\rangle\\langle+x_{(pq,rs)}| - |-x_{(pq,rs)}\\rangle\\langle-x_{(pq,rs)}|$ (\"In-phase operator\" or \"cosine observable\")\n",
    "\n",
    "\n",
    "$Q_{(pq,rs)} = |+y_{(pq,rs)}\\rangle\\langle+y_{(pq,rs)}| - |-y_{(pq,rs)}\\rangle\\langle-y_{(pq,rs)}|$ (\"Quadrature operator\" or \"sine observable\")"
   ]
  },
  {
   "cell_type": "markdown",
   "id": "17b0fe33",
   "metadata": {},
   "source": [
    "We gather an RPE dataset for learning $\\phi_{(pq,rs)}$ by estimating both $\\langle I_{(pq,rs)} \\rangle$ and $\\langle Q_{(pq,rs)} \\rangle$ given the input state $|+x_{(pq,rs)}\\rangle$ followed by $k$ applications of the $CZ$ gate for $k\\in[1,2,\\ldots,k_\\max]$.\n",
    "\n",
    "We estimate each $\\phi_{pq,rs}$ via RPE (here using the pyRPE software package) and in turn learn \n",
    "$\\theta_{IZ}$, $\\theta_{ZI}$, and $\\theta_{ZZ}$ by linear inversion."
   ]
  },
  {
   "cell_type": "markdown",
   "id": "53a0c8eb",
   "metadata": {},
   "source": [
    "# Code"
   ]
  },
  {
   "cell_type": "markdown",
   "id": "9b58362f",
   "metadata": {},
   "source": [
    "## Define relevant helper functions for generating quantum circuit lists and analyzing data."
   ]
  },
  {
   "cell_type": "code",
   "execution_count": 2,
   "id": "f5a8ac7e",
   "metadata": {},
   "outputs": [],
   "source": [
    "#Define functions for generating the quantum circuits for estimating $I_{(pq,rs)}$ and $Q_{(pq,rs)}$:\n",
    "\n",
    "def make_cos_circ(k,state_pair,line_labels=(0,1)):\n",
    "    '''\n",
    "    Generate circuit for RPE's in-phase/\"cosine\" measurement for the CZ gate.\n",
    "    \n",
    "    Parameters\n",
    "    ----------\n",
    "    k : integer\n",
    "        The number of repetition of CZ.\n",
    "    \n",
    "    state_pair : tuple of 2-bit strings\n",
    "        Which eigenstates are we learning the phase difference for.  \n",
    "        Supported choices are ('00','01'), ('10','11'), ('01', 11)\n",
    "    \n",
    "    line_labels : tuple\n",
    "        Labels for the qubits targeted by the CZ.  Useful if deployed on device with many qubits.\n",
    "    \n",
    "    Returns\n",
    "    -------\n",
    "    pygsti.circuits.Circuit\n",
    "        A pygsti Circuit object corresponding to the requested RPE circuit.\n",
    "    \n",
    "    '''\n",
    "    c, t = line_labels\n",
    "    \n",
    "    core_subcirc = pygsti.circuits.Circuit([[('Gcphase',c,t)]],line_labels=line_labels)*k\n",
    "\n",
    "    #Circuit for sampling from 1/2 (1 + cos(k(theta_iz+theta_zz))):\n",
    "    if state_pair == ('00','01'):\n",
    "        prep_subcirc = pygsti.circuits.Circuit([[('Gypi2',t)]],line_labels=line_labels)#Prepare |00> + |01>\n",
    "        meas_subcirc = pygsti.circuits.Circuit([[('Gypi2',t)]],line_labels=line_labels)#Map <00| ± <01| to Z basis\n",
    "\n",
    "    #Circuit for sampling from 1/2 (1 + cos(k(theta_iz-theta_zz))):\n",
    "    elif state_pair == ('10','11'):\n",
    "        prep_subcirc = (pygsti.circuits.Circuit([[('Gxpi2',c)],\n",
    "                                                 [('Gxpi2',c)],\n",
    "                                                 [('Gypi2',t)]],line_labels=line_labels))#Prepare |10> + |11>\n",
    "        meas_subcirc = pygsti.circuits.Circuit([[('Gypi2',t)]],line_labels=line_labels)#Map <10| ± <11| to Z basis \n",
    "    \n",
    "    #Circuit for sampling from 1/2 (1 + cos(k(theta_zi-theta_zz))):\n",
    "    elif state_pair == ('01','11'):\n",
    "        prep_subcirc = (pygsti.circuits.Circuit([[('Gxpi2',t)],\n",
    "                                                 [('Gxpi2',t)],\n",
    "                                                 [('Gypi2',c)]],line_labels=line_labels))#Prepare |01> + |11>\n",
    "        meas_subcirc = pygsti.circuits.Circuit([[('Gypi2',c)]],line_labels=line_labels)#Map <01| ± <11| to Z basis.\n",
    "    else:\n",
    "        assert False, \"state_pair must be ('00','01'), ('10','11'), or ('01','11').\"\n",
    "    \n",
    "    circ = prep_subcirc + core_subcirc + meas_subcirc\n",
    "    \n",
    "    return circ\n",
    "\n",
    "    \n",
    "def make_sin_circ(k,state_pair,line_labels=(0,1)):\n",
    "    '''\n",
    "    Generate circuit for RPE's quadrature/\"sin\" measurement for the CZ gate.\n",
    "    \n",
    "    Parameters\n",
    "    ----------\n",
    "    k : integer\n",
    "        The number of repetition of CZ.\n",
    "    \n",
    "    state_pair : tuple of 2-bit strings\n",
    "        Which eigenstates are we learning the phase difference for.  \n",
    "        Supported choices are ('00','01'), ('10','11'), ('01', 11)\n",
    "    \n",
    "    line_labels : tuple\n",
    "        Labels for the qubits targeted by the CZ.  Useful if deployed on device with many qubits.\n",
    "    \n",
    "    Returns\n",
    "    -------\n",
    "    pygsti.circuits.Circuit\n",
    "        A pygsti Circuit object corresponding to the requested RPE circuit.\n",
    "    \n",
    "    '''\n",
    "\n",
    "    c, t = line_labels\n",
    "\n",
    "    core_subcirc = pygsti.circuits.Circuit([[('Gcphase',c,t)]],line_labels=line_labels)*k\n",
    "\n",
    "    #Circuit for sampling from 1/2 (1 + sin(k(theta_iz+theta_zz))):    \n",
    "    if state_pair == ('00','01'):\n",
    "        prep_subcirc = pygsti.circuits.Circuit([[('Gypi2',t)]],line_labels=line_labels)#Prepare |00> + |01>\n",
    "        meas_subcirc = pygsti.circuits.Circuit([[('Gxpi2',t)]],line_labels=line_labels)#Map <00| ±i <01| to Z basis\n",
    "\n",
    "    #Circuit for sampling from 1/2 (1 + cos(k(theta_iz-theta_zz))):\n",
    "    elif state_pair == ('10','11'):\n",
    "        prep_subcirc = pygsti.circuits.Circuit([[('Gxpi2',c)],\n",
    "                                                [('Gxpi2',c)],\n",
    "                                                [('Gypi2',t)]],line_labels=line_labels)#Prepare |10> + |11>\n",
    "        meas_subcirc = pygsti.circuits.Circuit([[('Gxpi2',t)]],line_labels=line_labels)#Map <10| ±i <11| to Z basis.\n",
    "    \n",
    "    \n",
    "    elif state_pair == ('01','11'):\n",
    "        prep_subcirc = pygsti.circuits.Circuit([[('Gxpi2',t)],\n",
    "                                                [('Gxpi2',t)],\n",
    "                                                [('Gypi2',c)]],line_labels=line_labels)#Prepare |01> + |11>\n",
    "        meas_subcirc = pygsti.circuits.Circuit([[('Gxpi2',c)]],line_labels=line_labels)#Map <01| ±i <11| to Z basis.\n",
    "    else:\n",
    "        assert False, \"('00','01'), ('10','11'), or ('01','11')\"\n",
    "    \n",
    "    circ = prep_subcirc + core_subcirc + meas_subcirc\n",
    "    \n",
    "    return circ\n"
   ]
  },
  {
   "cell_type": "code",
   "execution_count": 3,
   "id": "4f831b62",
   "metadata": {},
   "outputs": [],
   "source": [
    "#Each cosine (sine) RPE circuit has one outcome that increments the \"+ outcome\" count \n",
    "#and one that increments the \"- outcome\" count.  This dictionary explicitly tracks that information.\n",
    "#If any other outcome is observed the shot is discarded.\n",
    "\n",
    "state_pair_outcome_mapping = {('00','01'):{('cos','+'):'01', ('cos','-'):'00',\n",
    "                                     ('sin','+'):'00', ('sin','-'):'01'},\n",
    "                              ('10','11'):{('cos','+'):'11', ('cos','-'):'10',\n",
    "                                     ('sin','+'):'10', ('sin','-'):'11'},\n",
    "                              ('01','11'):{('cos','+'):'11', ('cos','-'):'01',\n",
    "                                     ('sin','+'):'01', ('sin','-'):'11'}}\n",
    "                "
   ]
  },
  {
   "cell_type": "code",
   "execution_count": 4,
   "id": "f5a2829d",
   "metadata": {},
   "outputs": [],
   "source": [
    "#Define the series of log-spaced repetitions of the CZ  gate.\n",
    "#Can go shallower or deeper.  \n",
    "#The deeper we can go, the better (up to depolarization).\n",
    "max_depths = [1,2,4,8,16,32]"
   ]
  },
  {
   "cell_type": "code",
   "execution_count": 5,
   "id": "1a54312b",
   "metadata": {},
   "outputs": [],
   "source": [
    "#List the eigenstate pairs we will be estimating the phase differences (\\phi_{(pq,rs)}) for.\n",
    "state_pairs = [('00','01'),('10','11'),('01','11')]"
   ]
  },
  {
   "cell_type": "code",
   "execution_count": 6,
   "id": "2b890542",
   "metadata": {},
   "outputs": [],
   "source": [
    "#Define the \"line labels\" for the experiment, i.e., the labels for the qubits that RPE will be run on.\n",
    "exp_line_labels = (0,1)"
   ]
  },
  {
   "cell_type": "code",
   "execution_count": 7,
   "id": "77cdbb62",
   "metadata": {},
   "outputs": [],
   "source": [
    "#Construct the list of RPE circuits.\n",
    "\n",
    "sin_dict = {state_pair: {i: make_sin_circ(i,state_pair,exp_line_labels) for i in max_depths} for state_pair in state_pairs}\n",
    "cos_dict = {state_pair: {i: make_cos_circ(i,state_pair,exp_line_labels) for i in max_depths} for state_pair in state_pairs}\n",
    "\n",
    "circ_dict = {'sin':sin_dict,'cos':cos_dict}\n",
    "\n",
    "all_circs = []\n",
    "for trig_dict in [sin_dict,cos_dict]:\n",
    "    for state_pair in state_pairs:\n",
    "        all_circs += list(trig_dict[state_pair].values())\n",
    "\n",
    "all_circs = pygsti.remove_duplicates(all_circs)"
   ]
  },
  {
   "cell_type": "code",
   "execution_count": 8,
   "id": "73d770ce",
   "metadata": {},
   "outputs": [],
   "source": [
    "#RPE by default estimates angles in [0,2pi].  \n",
    "#theta_iz+theta_zz can be negative, however, which RPE then erroneously reports as theta_iz+theta_zz+2pi.\n",
    "#We solve this problem via the rectify_angle function defined here.\n",
    "def rectify_angle(theta):\n",
    "    if theta > np.pi:\n",
    "        theta -= 2*np.pi\n",
    "    return theta\n"
   ]
  },
  {
   "cell_type": "markdown",
   "id": "6ff51153",
   "metadata": {},
   "source": [
    "## Generate simulated data"
   ]
  },
  {
   "cell_type": "code",
   "execution_count": 9,
   "id": "717b85db",
   "metadata": {},
   "outputs": [],
   "source": [
    "#Define parameterized CZ for generating simulated data.\n",
    "def CZ(theta_iz,theta_zi,theta_zz):#diag([1,1,1,-1]) == CZ(np.pi/2,np.pi/2,-np.pi/2) (up to phase)\n",
    "    return scipy.linalg.expm(-1j / 2 * (theta_iz * pygsti.sigmaiz + theta_zi * pygsti.sigmazi + theta_zz * pygsti.sigmazz))"
   ]
  },
  {
   "cell_type": "code",
   "execution_count": 10,
   "id": "4b7fdf6f",
   "metadata": {},
   "outputs": [],
   "source": [
    "#Use built-in pyGSTi modelpack to define target and noisy gate sets.\n",
    "target_model = smq2Q_XYICPHASE.target_model(qubit_labels=exp_line_labels)"
   ]
  },
  {
   "cell_type": "code",
   "execution_count": 11,
   "id": "e8d88c0c",
   "metadata": {},
   "outputs": [],
   "source": [
    "target_theta_iz = np.pi/2\n",
    "target_theta_zi = np.pi/2\n",
    "target_theta_zz =-np.pi/2"
   ]
  },
  {
   "cell_type": "code",
   "execution_count": 12,
   "id": "b3b0ddc1",
   "metadata": {},
   "outputs": [],
   "source": [
    "#Define the rotation angles used for the simulated dataset\n",
    "delta_theta_iz =  0.1\n",
    "delta_theta_zi = -0.2\n",
    "delta_theta_zz = -0.3\n",
    "\n",
    "theta_iz = target_theta_iz + delta_theta_iz\n",
    "theta_zi = target_theta_zi + delta_theta_zi\n",
    "theta_zz = target_theta_zz + delta_theta_zz\n",
    "\n",
    "noisy_model = target_model.copy()\n",
    "noisy_model['Gcphase',exp_line_labels[0],exp_line_labels[1]] = pygsti.unitary_to_pauligate(\n",
    "    CZ(theta_iz, theta_zi, theta_zz))"
   ]
  },
  {
   "cell_type": "code",
   "execution_count": 13,
   "id": "cd16d313",
   "metadata": {},
   "outputs": [
    {
     "name": "stdout",
     "output_type": "stream",
     "text": [
      "Phase differences to estimate:\n",
      "('00','01') : (theta_iz+theta_zz) =-0.2000\n",
      "('10','11') : (theta_iz-theta_zz) = 3.5416\n",
      "('01','11') : (theta_zi-theta_zz) = 3.2416\n",
      "\n",
      "Underlying parameters to estimate:\n",
      "theta_iz = 1.6708\n",
      "theta_zi = 1.3708\n",
      "theta_zz =-1.8708\n"
     ]
    }
   ],
   "source": [
    "#What angles will we be trying to estimate?\n",
    "print(f\"Phase differences to estimate:\")\n",
    "print(f\"('00','01') : (theta_iz+theta_zz) ={(theta_iz+theta_zz) : .4f}\")\n",
    "print(f\"('10','11') : (theta_iz-theta_zz) ={(theta_iz-theta_zz) : .4f}\")\n",
    "print(f\"('01','11') : (theta_zi-theta_zz) ={(theta_zi-theta_zz) : .4f}\")\n",
    "print()\n",
    "print(f\"Underlying parameters to estimate:\")\n",
    "print(f\"theta_iz ={(theta_iz) : .4f}\")\n",
    "print(f\"theta_zi ={(theta_zi) : .4f}\")\n",
    "print(f\"theta_zz ={(theta_zz) : .4f}\")"
   ]
  },
  {
   "cell_type": "code",
   "execution_count": 14,
   "id": "c870af18",
   "metadata": {},
   "outputs": [],
   "source": [
    "#Make an RPE dataset with the noisy model\n",
    "N = 100#Number of repetitions per circuit\n",
    "dataset_0 = pygsti.data.simulate_data(noisy_model,all_circs,N)"
   ]
  },
  {
   "cell_type": "code",
   "execution_count": 15,
   "id": "a2ad4b8b",
   "metadata": {},
   "outputs": [
    {
     "name": "stdout",
     "output_type": "stream",
     "text": [
      "Reading rpe_dataset_demo.txt: 100%\n"
     ]
    }
   ],
   "source": [
    "#To simulate loading in experimental data, we write the file to disk and then reload it.\n",
    "#If there is actual experimental data present, it should populate the dataset file and then be loaded in.\n",
    "pygsti.io.write_dataset('rpe_dataset_demo.txt',dataset_0)\n",
    "dataset_1 = pygsti.io.read_dataset('rpe_dataset_demo.txt')"
   ]
  },
  {
   "cell_type": "code",
   "execution_count": 16,
   "id": "ee9887dc",
   "metadata": {},
   "outputs": [],
   "source": [
    "#Post-process the RPE data from the pyGSTi dataset\n",
    "the_experiments = {}\n",
    "for state_pair in state_pairs:\n",
    "    the_experiments[state_pair] = Q()\n",
    "\n",
    "for state_pair in state_pairs:\n",
    "    cos_plus = state_pair_outcome_mapping[state_pair]['cos','+']\n",
    "    cos_minus = state_pair_outcome_mapping[state_pair]['cos','-']\n",
    "    sin_plus = state_pair_outcome_mapping[state_pair]['sin','+']\n",
    "    sin_minus = state_pair_outcome_mapping[state_pair]['sin','-']\n",
    "    for i in max_depths:\n",
    "        the_experiments[state_pair].process_sin(i,(int(dataset_1[sin_dict[state_pair][i]][sin_plus]),\n",
    "                                                   int(dataset_1[sin_dict[state_pair][i]][sin_minus])))\n",
    "        the_experiments[state_pair].process_cos(i,(int(dataset_1[cos_dict[state_pair][i]][cos_plus]),\n",
    "                                                   int(dataset_1[cos_dict[state_pair][i]][cos_minus])))\n",
    "        "
   ]
  },
  {
   "cell_type": "code",
   "execution_count": 17,
   "id": "2865f3e9",
   "metadata": {},
   "outputs": [
    {
     "name": "stdout",
     "output_type": "stream",
     "text": [
      "Last good generation is generation 5 (depth L=32)\n"
     ]
    }
   ],
   "source": [
    "#Analyze the RPE dataset.\n",
    "analyses = {}\n",
    "last_good_estimate_generations = {}\n",
    "\n",
    "for state_pair in state_pairs:\n",
    "    #Run RPE analysis\n",
    "    analyses[state_pair] = RobustPhaseEstimation(the_experiments[state_pair])\n",
    "    \n",
    "    #Run consistency check analysis\n",
    "    last_good_estimate_generations[state_pair] = analyses[(state_pair)].check_unif_local(historical=True)\n",
    "\n",
    "    #Rectify estimates of $\\phi_{(00,01)}$ that might be negative in reality but reported as larger than pi.\n",
    "    #This step must be done *after* the consistency check analysis.\n",
    "    if state_pair == ('00','01'):\n",
    "        analyses[state_pair].angle_estimates = [rectify_angle(theta) for theta in analyses[state_pair].angle_estimates]#rectify_angle(analyses[state_pair].angle_estimates)\n",
    "\n",
    "#Determine last trusted estimate generation.\n",
    "last_good_estimate_generation = min(list(last_good_estimate_generations.values()))\n",
    "\n",
    "print(f'Last good generation is generation {last_good_estimate_generation} (depth L={2**last_good_estimate_generation})')"
   ]
  },
  {
   "cell_type": "code",
   "execution_count": 18,
   "id": "8f0eb4f0",
   "metadata": {},
   "outputs": [],
   "source": [
    "#Turn lin. comb. estimates into estimates of {theta_ij}.\n",
    "theta_iz_estimates = 0.5*(np.array(analyses[('00','01')].angle_estimates) + np.array(analyses[('10','11')].angle_estimates))\n",
    "theta_zz_estimates = 0.5*(np.array(analyses[('00','01')].angle_estimates) - np.array(analyses[('10','11')].angle_estimates))\n",
    "theta_zi_estimates = np.array(analyses[('01','11')].angle_estimates)+theta_zz_estimates\n",
    "\n",
    "angle_estimates = {'theta_iz':theta_iz_estimates,'theta_zi':theta_zi_estimates,'theta_zz':theta_zz_estimates}"
   ]
  },
  {
   "cell_type": "code",
   "execution_count": 19,
   "id": "a5805651",
   "metadata": {},
   "outputs": [
    {
     "name": "stdout",
     "output_type": "stream",
     "text": [
      "Phase differences to estimate:\n",
      "('00','01') : (theta_iz+theta_zz) =-0.2000\n",
      "('10','11') : (theta_iz-theta_zz) = 3.5416\n",
      "('01','11') : (theta_zi-theta_zz) = 3.2416\n",
      "\n",
      "Underlying parameters to estimate:\n",
      "theta_iz = 1.6708\n",
      "theta_zi = 1.3708\n",
      "theta_zz =-1.8708\n"
     ]
    }
   ],
   "source": [
    "#Reminder of phase differences and underlying parameters we're trying to estimate.\n",
    "#(Can't know these without actually knowing true phases.)\n",
    "print(f\"Phase differences to estimate:\")\n",
    "print(f\"('00','01') : (theta_iz+theta_zz) ={(theta_iz+theta_zz) : .4f}\")\n",
    "print(f\"('10','11') : (theta_iz-theta_zz) ={(theta_iz-theta_zz) : .4f}\")\n",
    "print(f\"('01','11') : (theta_zi-theta_zz) ={(theta_zi-theta_zz) : .4f}\")\n",
    "print()\n",
    "print(f\"Underlying parameters to estimate:\")\n",
    "print(f\"theta_iz ={(theta_iz) : .4f}\")\n",
    "print(f\"theta_zi ={(theta_zi) : .4f}\")\n",
    "print(f\"theta_zz ={(theta_zz) : .4f}\")"
   ]
  },
  {
   "cell_type": "code",
   "execution_count": 20,
   "id": "6e606c15",
   "metadata": {},
   "outputs": [
    {
     "name": "stdout",
     "output_type": "stream",
     "text": [
      "theta_iz+theta_zz\n",
      "-0.3520 -0.2318 -0.1858 -0.2038 -0.1976 -0.1951 \n",
      "\n",
      "\n",
      "theta_iz-theta_zz\n",
      " 3.6225  3.5343  3.5094  3.5293  3.5355  3.5442 \n",
      "\n",
      "\n",
      "theta_zi-theta_zz\n",
      " 3.4146  3.2901  3.2596  3.2433  3.2299  3.2441 \n",
      "\n",
      "\n",
      "theta_iz\n",
      " 1.6352  1.6512  1.6618  1.6627  1.6690  1.6745 \n",
      "\n",
      "\n",
      "theta_zi\n",
      " 1.4273  1.4071  1.4120  1.3768  1.3633  1.3745 \n",
      "\n",
      "\n",
      "theta_zz\n",
      "-1.9873 -1.8831 -1.8476 -1.8666 -1.8666 -1.8696 \n",
      "\n",
      "\n"
     ]
    }
   ],
   "source": [
    "#What linear cominations of phases did we iteratively reconstruct?\n",
    "\n",
    "angle_combination_labels = ['theta_iz+theta_zz','theta_iz-theta_zz','theta_zi-theta_zz']\n",
    "angle_labels = ['theta_iz','theta_zi','theta_zz']\n",
    "\n",
    "\n",
    "for idx, state_pair in enumerate(state_pairs):\n",
    "    print(angle_combination_labels[idx])\n",
    "    for phase_diff_est in analyses[state_pair].angle_estimates:\n",
    "        print(f'{phase_diff_est : .4f}', end=' ')\n",
    "    print('\\n\\n')\n",
    "\n",
    "    \n",
    "for angle_label in angle_labels:\n",
    "#    , state_pair in enumerate(state_pairs):\n",
    "    print(angle_label)\n",
    "    for angle_est in angle_estimates[angle_label]: \n",
    "        print(f'{angle_est : .4f}', end=' ')\n",
    "    print('\\n\\n')\n"
   ]
  },
  {
   "cell_type": "code",
   "execution_count": 21,
   "id": "79d9d5bc",
   "metadata": {},
   "outputs": [
    {
     "data": {
      "text/plain": [
       "(0.0005, np.float64(0.14659534532571666))"
      ]
     },
     "execution_count": 21,
     "metadata": {},
     "output_type": "execute_result"
    },
    {
     "data": {
      "image/png": "[encoded data removed]",
      "text/plain": [
       "<Figure size 640x480 with 1 Axes>"
      ]
     },
     "metadata": {},
     "output_type": "display_data"
    }
   ],
   "source": [
    "#Can plot accuracy of estimates when truth is known.  (Can't do this for experimental data.)\n",
    "plt.plot(max_depths,np.abs(theta_iz - theta_iz_estimates),'^',label=r'$\\theta_{iz}$')\n",
    "plt.plot(max_depths,np.abs(theta_zi - theta_zi_estimates),'v',label=r'$\\theta_{zi}$')\n",
    "plt.plot(max_depths,np.abs(theta_zz - theta_zz_estimates),'x',label=r'$\\theta_{zz}$')\n",
    "plt.xscale('log')\n",
    "plt.yscale('log')\n",
    "plt.xlabel('Circuit depth')\n",
    "plt.ylabel('Absolute angle estimate error')\n",
    "plt.legend()\n",
    "plt.ylim(bottom=5e-4)"
   ]
  },
  {
   "cell_type": "code",
   "execution_count": 22,
   "id": "3335114c",
   "metadata": {},
   "outputs": [
    {
     "name": "stdout",
     "output_type": "stream",
     "text": [
      "RPE's best estimate of theta_iz is 1.6745272589252347\n",
      "RPE's best estimate of theta_zi is 1.3744867063837949\n",
      "RPE's best estimate of theta_zz is -1.869627465801994\n"
     ]
    }
   ],
   "source": [
    "#Now we use our last \"trusted\" RPE angle estimate (calculated earlier).  \n",
    "#This is the quantity that will get fed to the optimizer.\n",
    "\n",
    "print(f'RPE\\'s best estimate of theta_iz is {theta_iz_estimates[last_good_estimate_generation]}')\n",
    "print(f'RPE\\'s best estimate of theta_zi is {theta_zi_estimates[last_good_estimate_generation]}')\n",
    "print(f'RPE\\'s best estimate of theta_zz is {theta_zz_estimates[last_good_estimate_generation]}')"
   ]
  },
  {
   "cell_type": "code",
   "execution_count": 23,
   "id": "50daf476",
   "metadata": {},
   "outputs": [
    {
     "name": "stdout",
     "output_type": "stream",
     "text": [
      "Number to feed into optimizer is |theta_zz_estimate - theta_zz_target|=0.29883113900709746\n"
     ]
    }
   ],
   "source": [
    "print(f'Number to feed into optimizer is |theta_zz_estimate - theta_zz_target|={np.abs(target_theta_zz - theta_zz_estimates[last_good_estimate_generation])}')"
   ]
  },
  {
   "cell_type": "code",
   "execution_count": null,
   "id": "a261edca",
   "metadata": {},
   "outputs": [],
   "source": []
  }
 ],
 "metadata": {
  "kernelspec": {
   "display_name": "rpe",
   "language": "python",
   "name": "rpe"
  },
  "language_info": {
   "codemirror_mode": {
    "name": "ipython",
    "version": 3
   },
   "file_extension": ".py",
   "mimetype": "text/x-python",
   "name": "python",
   "nbconvert_exporter": "python",
   "pygments_lexer": "ipython3",
   "version": "3.10.9"
  }
 },
 "nbformat": 4,
 "nbformat_minor": 5
}
