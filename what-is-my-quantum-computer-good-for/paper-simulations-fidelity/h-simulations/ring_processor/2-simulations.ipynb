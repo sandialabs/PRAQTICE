{
 "cells": [
  {
   "cell_type": "code",
   "execution_count": 1,
   "metadata": {},
   "outputs": [
    {
     "name": "stderr",
     "output_type": "stream",
     "text": [
      "/opt/anaconda3/envs/QPL/lib/python3.8/site-packages/scipy/__init__.py:146: UserWarning: A NumPy version >=1.16.5 and <1.23.0 is required for this version of SciPy (detected version 1.24.3\n",
      "  warnings.warn(f\"A NumPy version >={np_minversion} and <{np_maxversion}\"\n"
     ]
    }
   ],
   "source": [
    "import pygsti\n",
    "import numpy as np\n",
    "from matplotlib import pyplot as plt\n",
    "import json\n",
    "import pickle\n",
    "import os\n",
    "import pandas as pd\n",
    "\n",
    "from helper import *\n",
    "\n",
    "%load_ext autoreload\n",
    "%autoreload 2"
   ]
  },
  {
   "cell_type": "markdown",
   "metadata": {},
   "source": [
    "# Simulation notebook"
   ]
  },
  {
   "cell_type": "markdown",
   "metadata": {},
   "source": [
    "This notebook simulates all of the circuits in a dataset. The first third of the notebook loads up or creates an error model. The second third simulates the random *i.i.d.*-layered circuits, and the final third simulates the random mirror circuits."
   ]
  },
  {
   "cell_type": "markdown",
   "metadata": {},
   "source": [
    "Select the dataset"
   ]
  },
  {
   "cell_type": "code",
   "execution_count": 58,
   "metadata": {},
   "outputs": [],
   "source": [
    "exp_num = 4"
   ]
  },
  {
   "cell_type": "markdown",
   "metadata": {},
   "source": [
    "Set your hyperparameters"
   ]
  },
  {
   "cell_type": "code",
   "execution_count": 59,
   "metadata": {},
   "outputs": [],
   "source": [
    "typ = 'H'\n",
    "exp_path = f'./experiment_{exp_num}'\n",
    "sim_path = exp_path + '/simulation_results/'\n",
    "circ_path = exp_path + '/circuits/'\n",
    "\n",
    "try:\n",
    "    os.makedirs(sim_path)\n",
    "except:\n",
    "    print('Blah')\n",
    "\n",
    "with open('./experiment_0' + '/pspec.pkl', 'rb') as f:\n",
    "    pspec = pickle.load(f)\n",
    "\n",
    "max_stochastic = {'S': .0005, 'H': 0, 'H+S': .0001}\n",
    "max_hamiltonian = {'S': 0, 'H': .00025, 'H+S': .0001}\n",
    "max_strengths = {1: {'S': max_stochastic[typ], 'H': max_hamiltonian[typ]},\n",
    "                 2: {'S': 3*max_stochastic[typ], 'H': 3*max_hamiltonian[typ]}\n",
    "                 }\n"
   ]
  },
  {
   "cell_type": "markdown",
   "metadata": {},
   "source": [
    "Construct the noise models or load an existing noise model"
   ]
  },
  {
   "cell_type": "code",
   "execution_count": 60,
   "metadata": {},
   "outputs": [],
   "source": [
    "target_model = pygsti.models.create_crosstalk_free_model(processor_spec = pspec)\n",
    "\n",
    "if exp_num == 0:\n",
    "    error_rates_dict = sample_error_rates_dict(pspec, max_strengths)\n",
    "    error_model = pygsti.models.create_crosstalk_free_model(pspec, lindblad_error_coeffs=error_rates_dict)\n",
    "\n",
    "    with open(exp_path+'./error_rates.json', 'wb') as f:\n",
    "        pickle.dump({'gate-errors': error_rates_dict}, \n",
    "                 f)\n",
    "\n",
    "    with open(exp_path + '/error_model.pkl', 'wb') as f:\n",
    "        pickle.dump(error_model, f)\n",
    "else:\n",
    "    with open('./experiment_0' + '/error_model.pkl', 'rb') as f:\n",
    "        error_model = pickle.load(f)"
   ]
  },
  {
   "cell_type": "markdown",
   "metadata": {},
   "source": [
    "# Simulate the random *i.i.d.*-layered circuits"
   ]
  },
  {
   "cell_type": "code",
   "execution_count": 61,
   "metadata": {},
   "outputs": [
    {
     "name": "stdout",
     "output_type": "stream",
     "text": [
      "CPU times: user 1.76 s, sys: 10.7 ms, total: 1.77 s\n",
      "Wall time: 1.77 s\n"
     ]
    }
   ],
   "source": [
    "%%time\n",
    "\n",
    "circuits = pygsti.io.read_circuit_list(circ_path + '/iid_layer_random_clifford_circuits_v1_instance_0.txt')\n",
    "good_circuits = []\n",
    "for c in circuits:\n",
    "    new_c = c.copy(editable = True)\n",
    "    # new_c.map_state_space_labels_inplace({0: 'Q0', 1: 'Q1', 2: 'Q2', 3: 'Q3'})\n",
    "    new_c.done_editing()\n",
    "    good_circuits.append(new_c)"
   ]
  },
  {
   "cell_type": "code",
   "execution_count": 62,
   "metadata": {},
   "outputs": [
    {
     "name": "stdout",
     "output_type": "stream",
     "text": [
      "0 ( 29 ),100 ( 19 ),200 ( 34 ),300 ( 167 ),400 ( 1 ),500 ( 30 ),600 ( 3 ),700 ( 5 ),800 ( 24 ),900 ( 13 ),1000 ( 5 ),1100 ( 12 ),1200 ( 44 ),1300 ( 14 ),1400 ( 69 ),1500 ( 6 ),1600 ( 19 ),1700 ( 6 ),1800 ( 94 ),1900 ( 21 ),2000 ( 8 ),2100 ( 19 ),2200 ( 39 ),2300 ( 9 ),2400 ( 143 ),2500 ( 6 ),2600 ( 180 ),2700 ( 22 ),2800 ( 26 ),2900 ( 26 ),3000 ( 19 ),3100 ( 30 ),3200 ( 1 ),3300 ( 13 ),3400 ( 28 ),3500 ( 21 ),3600 ( 20 ),3700 ( 7 ),3800 ( 14 ),3900 ( 17 ),4000 ( 16 ),4100 ( 3 ),4200 ( 127 ),4300 ( 5 ),4400 ( 14 ),4500 ( 14 ),4600 ( 4 ),4700 ( 11 ),4800 ( 1 ),4900 ( 178 ),CPU times: user 1h 39s, sys: 56.9 s, total: 1h 1min 36s\n",
      "Wall time: 10min 22s\n"
     ]
    }
   ],
   "source": [
    "%%time\n",
    "fids = []\n",
    "for i, c in enumerate(good_circuits):\n",
    "    #print(i, '(', (c.depth), ')', end=',')\n",
    "    if i % 100 == 0:\n",
    "        print(i, '(', (c.depth), ')', end=',')\n",
    "    pmatrix = error_model.circuit_operator(c).to_dense()\n",
    "    target_pmatrix = target_model.circuit_operator(c).to_dense()\n",
    "    fids.append(pygsti.entanglement_fidelity(pmatrix, target_pmatrix))"
   ]
  },
  {
   "cell_type": "markdown",
   "metadata": {},
   "source": [
    "Visualize the distribution of fidelities."
   ]
  },
  {
   "cell_type": "code",
   "execution_count": 63,
   "metadata": {},
   "outputs": [
    {
     "data": {
      "text/plain": [
       "(array([1.000e+00, 3.000e+00, 4.000e+00, 1.300e+01, 1.700e+01, 4.100e+01,\n",
       "        1.320e+02, 3.990e+02, 1.433e+03, 2.957e+03]),\n",
       " array([0.88503467, 0.8965275 , 0.90802034, 0.91951318, 0.93100601,\n",
       "        0.94249885, 0.95399169, 0.96548452, 0.97697736, 0.9884702 ,\n",
       "        0.99996303]),\n",
       " <BarContainer object of 10 artists>)"
      ]
     },
     "execution_count": 63,
     "metadata": {},
     "output_type": "execute_result"
    },
    {
     "data": {
      "image/png": "[encoded data removed]",
      "text/plain": [
       "<Figure size 640x480 with 1 Axes>"
      ]
     },
     "metadata": {},
     "output_type": "display_data"
    }
   ],
   "source": [
    "plt.hist(fids)"
   ]
  },
  {
   "cell_type": "markdown",
   "metadata": {},
   "source": [
    "# Save the fidelites (as a json and a dataframe)"
   ]
  },
  {
   "cell_type": "code",
   "execution_count": 64,
   "metadata": {},
   "outputs": [],
   "source": [
    "### As a json ###\n",
    "\n",
    "with open(sim_path+'/fidelities.json', 'w') as f:\n",
    "    json.dump(fids, f)\n"
   ]
  },
  {
   "cell_type": "code",
   "execution_count": 65,
   "metadata": {},
   "outputs": [],
   "source": [
    "### As a dataframe ###\n",
    "\n",
    "def create_dataframe(circs, fidelities):\n",
    "    dfdict = {'Circuit': [],\n",
    "                'D:SP': [],\n",
    "                'F:Depth': [],\n",
    "                'F:Width': [],\n",
    "                'F:2QGC': []\n",
    "                }\n",
    "\n",
    "    for circ, fid in zip(circs, fidelities):\n",
    "        dfdict['Circuit'].append(circ.str)\n",
    "        dfdict['F:Width'].append(circ.width)\n",
    "        dfdict['F:Depth'].append(circ.depth)\n",
    "        dfdict['F:2QGC'].append(circ.two_q_gate_count())\n",
    "        dfdict['D:SP'].append(fid)\n",
    "\n",
    "    df = pd.DataFrame(dfdict)\n",
    "    return df\n",
    "df = create_dataframe(good_circuits, fids)\n",
    "df.drop_duplicates(subset='Circuit', keep='first', inplace=True) # drop any unnecesarry duplicates\n",
    "df.reset_index(drop=True, inplace=True)\n",
    "\n",
    "df.to_csv(sim_path+'/dataframe.csv', index = False)"
   ]
  },
  {
   "cell_type": "markdown",
   "metadata": {},
   "source": [
    "# Simulate the mirror circuits (if you have them)"
   ]
  },
  {
   "cell_type": "markdown",
   "metadata": {},
   "source": [
    "Fill in."
   ]
  },
  {
   "cell_type": "code",
   "execution_count": 66,
   "metadata": {},
   "outputs": [],
   "source": [
    "with open('./experiment_0/error_model.pkl', 'rb') as f:\n",
    "    error_model = pickle.load(f)\n",
    "\n",
    "df_old = pd.read_csv(sim_path + '/dataframe.csv')\n",
    "max_depth = max(df_old['F:Depth'])"
   ]
  },
  {
   "cell_type": "code",
   "execution_count": 67,
   "metadata": {},
   "outputs": [
    {
     "name": "stdout",
     "output_type": "stream",
     "text": [
      "CPU times: user 612 ms, sys: 4.83 ms, total: 617 ms\n",
      "Wall time: 660 ms\n"
     ]
    }
   ],
   "source": [
    "%%time\n",
    "other_circuits = pygsti.io.read_circuit_list(circ_path + '/mirrored_random_clifford_circuits_v1_instance_0.txt')\n",
    "good_other_circuits = []\n",
    "for c in other_circuits:\n",
    "    new_c = c.copy(editable = True)\n",
    "    # new_c.map_state_space_labels_inplace({0: 'Q0', 1: 'Q1', 2: 'Q2', 3: 'Q3'})\n",
    "    new_c.done_editing()\n",
    "    good_other_circuits.append(new_c)"
   ]
  },
  {
   "cell_type": "code",
   "execution_count": 68,
   "metadata": {},
   "outputs": [
    {
     "name": "stdout",
     "output_type": "stream",
     "text": [
      "0 ( 172 ),100 ( 113 ),200 ( 158 ),300 ( 93 ),400 ( 124 ),500 ( 109 ),600 ( 133 ),700 ( 143 ),CPU times: user 25min 6s, sys: 20.3 s, total: 25min 27s\n",
      "Wall time: 4min 15s\n"
     ]
    },
    {
     "data": {
      "text/plain": [
       "(array([  5.,  13.,  19.,  31.,  48.,  59.,  81., 118., 155., 221.]),\n",
       " array([0.87303486, 0.88571747, 0.89840007, 0.91108268, 0.92376528,\n",
       "        0.93644789, 0.94913049, 0.9618131 , 0.9744957 , 0.98717831,\n",
       "        0.99986091]),\n",
       " <BarContainer object of 10 artists>)"
      ]
     },
     "execution_count": 68,
     "metadata": {},
     "output_type": "execute_result"
    },
    {
     "data": {
      "image/png": "[encoded data removed]",
      "text/plain": [
       "<Figure size 640x480 with 1 Axes>"
      ]
     },
     "metadata": {},
     "output_type": "display_data"
    }
   ],
   "source": [
    "%%time\n",
    "other_fids = []\n",
    "for i, c in enumerate(good_other_circuits):\n",
    "    #print(i, '(', (c.depth), ')', end=',')\n",
    "    if i % 100 == 0:\n",
    "        print(i, '(', (c.depth), ')', end=',')\n",
    "    pmatrix = error_model.circuit_operator(c).to_dense()\n",
    "    target_pmatrix = target_model.circuit_operator(c).to_dense()\n",
    "    other_fids.append(pygsti.entanglement_fidelity(pmatrix, target_pmatrix))\n",
    "plt.hist(other_fids)"
   ]
  },
  {
   "cell_type": "code",
   "execution_count": 69,
   "metadata": {},
   "outputs": [],
   "source": [
    "def create_dataframe(circs, fidelities):\n",
    "    dfdict = {'Circuit': [],\n",
    "                'D:SP': [],\n",
    "                'F:Depth': [],\n",
    "                'F:Width': [],\n",
    "                'F:2QGC': []\n",
    "                }\n",
    "\n",
    "    for circ, fid in zip(circs, fidelities):\n",
    "        dfdict['Circuit'].append(circ.str)\n",
    "        dfdict['F:Width'].append(circ.width)\n",
    "        dfdict['F:Depth'].append(circ.depth)\n",
    "        dfdict['F:2QGC'].append(circ.two_q_gate_count())\n",
    "        dfdict['D:SP'].append(fid)\n",
    "\n",
    "    df = pd.DataFrame(dfdict)\n",
    "    return df\n",
    "df_other = create_dataframe(good_other_circuits, other_fids)\n",
    "df_other.drop_duplicates(subset='Circuit', keep='first', inplace=True) # drop any unnecesarry duplicates\n",
    "df_other = df_other[df_other['F:Depth'] <= max_depth]\n",
    "good_other_circ_indices = np.array(df_other.index)"
   ]
  },
  {
   "cell_type": "code",
   "execution_count": 70,
   "metadata": {},
   "outputs": [],
   "source": [
    "# get rid of the circuits that are too long\n",
    "\n",
    "good_other_fids = np.array(other_fids)\n",
    "good_other_fids = good_other_fids[good_other_circ_indices]\n",
    "good_other_fids = list(good_other_fids)"
   ]
  },
  {
   "cell_type": "code",
   "execution_count": 71,
   "metadata": {},
   "outputs": [],
   "source": [
    "with open(sim_path+'/mirrored_fidelities.json', 'w') as f:\n",
    "    json.dump(good_other_fids, f)"
   ]
  },
  {
   "cell_type": "code",
   "execution_count": 72,
   "metadata": {},
   "outputs": [],
   "source": [
    "df_other.reset_index(drop=True, inplace=True)\n",
    "df_other.to_csv(sim_path+'/mirrored_dataframe.csv', index = False)"
   ]
  },
  {
   "cell_type": "code",
   "execution_count": null,
   "metadata": {},
   "outputs": [],
   "source": []
  }
 ],
 "metadata": {
  "kernelspec": {
   "display_name": "QPL",
   "language": "python",
   "name": "python3"
  },
  "language_info": {
   "codemirror_mode": {
    "name": "ipython",
    "version": 3
   },
   "file_extension": ".py",
   "mimetype": "text/x-python",
   "name": "python",
   "nbconvert_exporter": "python",
   "pygments_lexer": "ipython3",
   "version": "3.8.8"
  }
 },
 "nbformat": 4,
 "nbformat_minor": 2
}
