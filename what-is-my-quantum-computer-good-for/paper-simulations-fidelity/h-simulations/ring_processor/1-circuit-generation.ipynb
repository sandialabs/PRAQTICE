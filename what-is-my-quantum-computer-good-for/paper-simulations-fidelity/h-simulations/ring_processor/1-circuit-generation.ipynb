{
 "cells": [
  {
   "cell_type": "code",
   "execution_count": 1,
   "metadata": {},
   "outputs": [
    {
     "name": "stderr",
     "output_type": "stream",
     "text": [
      "/opt/anaconda3/envs/QPL/lib/python3.8/site-packages/scipy/__init__.py:146: UserWarning: A NumPy version >=1.16.5 and <1.23.0 is required for this version of SciPy (detected version 1.24.3\n",
      "  warnings.warn(f\"A NumPy version >={np_minversion} and <{np_maxversion}\"\n"
     ]
    }
   ],
   "source": [
    "import numpy as np\n",
    "import pickle \n",
    "import os\n",
    "\n",
    "import simfuncs as sf\n",
    "\n",
    "import pygsti\n",
    "from pygsti.processors.processorspec import QubitProcessorSpec as QPS\n",
    "from pygsti.algorithms.randomcircuit import create_mirror_rb_circuit\n",
    "from pygsti.processors import CliffordCompilationRules as CCR\n",
    "from pygsti.algorithms.randomcircuit import create_random_circuit"
   ]
  },
  {
   "cell_type": "markdown",
   "metadata": {},
   "source": [
    "# Circuit generation"
   ]
  },
  {
   "cell_type": "markdown",
   "metadata": {},
   "source": [
    "This notebook was used to generate the base circuits in each of the 10 datasets used in the simulation section of the paper. "
   ]
  },
  {
   "cell_type": "markdown",
   "metadata": {},
   "source": [
    "We begin by setting the experiment number. **You will want to change this number if you want to avoid writing over an existing dataset**"
   ]
  },
  {
   "cell_type": "code",
   "execution_count": 53,
   "metadata": {},
   "outputs": [],
   "source": [
    "experiment_number = 4"
   ]
  },
  {
   "cell_type": "markdown",
   "metadata": {},
   "source": [
    "FILL IN"
   ]
  },
  {
   "cell_type": "code",
   "execution_count": 54,
   "metadata": {},
   "outputs": [],
   "source": [
    "dataset_size = 5000\n",
    "num_qubits = 4\n",
    "\n",
    "path = f'./experiment_{experiment_number}'\n",
    "try:\n",
    "    os.makedirs(path)\n",
    "    os.makedirs(path + '/circuits/', exist_ok = True)\n",
    "except: \n",
    "    print(f'You already have an experiment number {experiment_number}!')"
   ]
  },
  {
   "cell_type": "markdown",
   "metadata": {},
   "source": [
    "Now we construct (or load) the processor for which the circuits are designed to be run on."
   ]
  },
  {
   "cell_type": "code",
   "execution_count": 55,
   "metadata": {},
   "outputs": [],
   "source": [
    "if experiment_number == 0:\n",
    "    gate_names = ['Gxpi2', 'Gypi2', 'Gxmpi2', 'Gympi2', 'Gxpi', 'Gypi', 'Gzpi', 'Gcnot']\n",
    "\n",
    "\n",
    "    ring_pspec = QPS(num_qubits = num_qubits, qubit_labels=[i for i in range(num_qubits)],\n",
    "                                                                gate_names=gate_names,\n",
    "                                                                availability= {'Gcnot': [(0,1), (1,0),(0,3), (3,0),(1,2), (2,1),(2,3), (3,2)]})\n",
    "    with open(path + '/pspec.pkl', 'wb') as f:\n",
    "        pickle.dump(ring_pspec, f)\n",
    "else:\n",
    "    with open('./experiment_0/pspec.pkl', 'rb') as f:\n",
    "        ring_pspec = pickle.load(f)"
   ]
  },
  {
   "cell_type": "code",
   "execution_count": 56,
   "metadata": {},
   "outputs": [],
   "source": [
    "compilations = CCR.create_standard(ring_pspec, 'absolute', ('paulis', '1Qcliffords'), verbosity=0)"
   ]
  },
  {
   "cell_type": "markdown",
   "metadata": {},
   "source": [
    "In the next two cells, we generate a big list of random *i.i.d.*-layered circuits!"
   ]
  },
  {
   "cell_type": "code",
   "execution_count": 57,
   "metadata": {},
   "outputs": [
    {
     "name": "stdout",
     "output_type": "stream",
     "text": [
      "{1: 180, 2: 45, 3: 30, 4: 22}\n"
     ]
    }
   ],
   "source": [
    "max_total_error_per_layer = {1: 0.005, 2:0.02, 3:0.03, 4:0.04}\n",
    "max_depth = {}\n",
    "min_f = 0.9\n",
    "for i, e in max_total_error_per_layer.items():\n",
    "    max_depth[i] = int(min_f // e) \n",
    "\n",
    "print(max_depth)\n",
    "\n",
    "def sample_width():\n",
    "    return np.random.randint(1, 5)\n",
    "    #return 3\n",
    "def sample_depth(w):\n",
    "    return np.random.randint(1, max_depth[w] + 1)\n",
    "\n",
    "def sample_two_q_gate_density():\n",
    "    # For 3 qubits can't have higher density that 2/3\n",
    "    return (2/3)*np.random.rand()\n",
    "\n",
    "# Hardcodes the number of qubits and the connectivity\n",
    "def sample_qubits(w): \n",
    "    if w == 2:\n",
    "        q1 = np.random.choice([0,1,2,3], 1, replace=False)[0]\n",
    "        q2 = (q1 + np.random.choice([1, -1], 1)[0]) % 4\n",
    "        qs = [q1, q2]\n",
    "        qs.sort()\n",
    "        return qs\n",
    "    else:\n",
    "        qs = list(np.random.choice([0,1,2,3], w, replace=False))\n",
    "        qs.sort()\n",
    "        return qs"
   ]
  },
  {
   "cell_type": "code",
   "execution_count": 58,
   "metadata": {},
   "outputs": [
    {
     "name": "stdout",
     "output_type": "stream",
     "text": [
      "0,100,200,300,400,500,600,700,800,900,1000,1100,1200,1300,1400,1500,1600,1700,1800,1900,2000,2100,2200,2300,2400,2500,2600,2700,2800,2900,3000,3100,3200,3300,3400,3500,3600,3700,3800,3900,4000,4100,4200,4300,4400,4500,4600,4700,4800,4900,"
     ]
    }
   ],
   "source": [
    "ws = []\n",
    "ds = []\n",
    "qubitslist = []\n",
    "two_q_densities = []\n",
    "circuits = []\n",
    "idealouts = []\n",
    "bitstrings = []\n",
    "circuits_and_idealouts = []\n",
    "aqs = []\n",
    "\n",
    "for i in range(dataset_size):\n",
    "    if i % 100 == 0:\n",
    "        print(i, end=',')\n",
    "    w = sample_width()\n",
    "    d = sample_depth(w)\n",
    "    xi = sample_two_q_gate_density()\n",
    "    qubits = tuple(sample_qubits(w))\n",
    "    ws.append(w)\n",
    "    ds.append(d)\n",
    "    qubitslist.append(qubits)\n",
    "    two_q_densities.append(xi)\n",
    "    \n",
    "    c = create_random_circuit(ring_pspec, d,  qubit_labels=qubits, sampler='edgegrab', samplerargs=[xi,])\n",
    "    active_qubits = [q for q in c.line_labels]\n",
    "    c = pygsti.circuits.Circuit(c.str.split('@')[0] + '@(0,1,2,3)')\n",
    "    circuits.append(sf.order_circuit(c))\n",
    "file_name = 'iid_layer_random_clifford_circuits_v1_instance_0'\n",
    "pygsti.io.write_circuit_list(path + '/circuits/' + file_name + '.txt', circuits)\n",
    "with open(path + '/circuits/' + file_name + '_params.pkl', 'wb') as f:\n",
    "    sample_params = {}\n",
    "    pickle.dump({'widths':ws, 'depths':ds, 'two_q_densities':two_q_densities, 'qubits':qubitslist}, f)"
   ]
  },
  {
   "cell_type": "markdown",
   "metadata": {},
   "source": [
    "# Create some mirror circuits"
   ]
  },
  {
   "cell_type": "code",
   "execution_count": 59,
   "metadata": {},
   "outputs": [],
   "source": [
    "path = f'./experiment_{experiment_number}'"
   ]
  },
  {
   "cell_type": "code",
   "execution_count": 60,
   "metadata": {},
   "outputs": [
    {
     "data": {
      "text/plain": [
       "30"
      ]
     },
     "execution_count": 60,
     "metadata": {},
     "output_type": "execute_result"
    }
   ],
   "source": [
    "circ_path = path + '/circuits/'\n",
    "old_circuits = pygsti.io.read_circuit_list(circ_path + '/iid_layer_random_clifford_circuits_v1_instance_0.txt')\n",
    "\n",
    "max_c_depth = int(max([c.depth for c in old_circuits]) // 6)\n",
    "max_c_depth"
   ]
  },
  {
   "cell_type": "code",
   "execution_count": 61,
   "metadata": {},
   "outputs": [],
   "source": [
    "max_m_depth = {1: max_c_depth, 2: max_c_depth, 3: max_c_depth, 4: max_c_depth }\n",
    "\n",
    "def sample_width():\n",
    "    return np.random.randint(1, 5)\n",
    "    #return 3\n",
    "def sample_depth(w):\n",
    "    return np.random.randint(1, max_m_depth[w] + 1)\n",
    "\n",
    "def sample_two_q_gate_density():\n",
    "    # For 3 qubits can't have higher density that 2/3\n",
    "    return (2/3)*np.random.rand()\n",
    "\n",
    "# Hardcodes the number of qubits and the connectivity\n",
    "def sample_qubits(w): \n",
    "    if w == 2:\n",
    "        q1 = np.random.choice([0,1,2,3], 1, replace=False)[0]\n",
    "        q2 = (q1 + np.random.choice([1, -1], 1)[0]) % 4\n",
    "        qs = [q1, q2]\n",
    "        qs.sort()\n",
    "        return qs\n",
    "    else:\n",
    "        qs = list(np.random.choice([0,1,2,3], w, replace=False))\n",
    "        qs.sort()\n",
    "        return qs"
   ]
  },
  {
   "cell_type": "code",
   "execution_count": 62,
   "metadata": {},
   "outputs": [
    {
     "name": "stdout",
     "output_type": "stream",
     "text": [
      "0,100,200,300,400,500,600,700,"
     ]
    }
   ],
   "source": [
    "# %%time\n",
    "dataset_size = 750\n",
    "\n",
    "\n",
    "ws = []\n",
    "ds = []\n",
    "qubitslist = []\n",
    "two_q_densities = []\n",
    "circuits = []\n",
    "idealouts = []\n",
    "bitstrings = []\n",
    "circuits_and_idealouts = []\n",
    "aqs = []\n",
    "\n",
    "for i in range(dataset_size):\n",
    "    if i % 100 == 0:\n",
    "        print(i, end=',')\n",
    "    w = sample_width()\n",
    "    d = sample_depth(w)\n",
    "    xi = sample_two_q_gate_density()\n",
    "    qubits = tuple(sample_qubits(w))\n",
    "    ws.append(w)\n",
    "    ds.append(d)\n",
    "    qubitslist.append(qubits)\n",
    "    two_q_densities.append(xi)\n",
    "\n",
    "    c, io = create_mirror_rb_circuit(ring_pspec, compilations, 2*d,  qubit_labels=qubits, sampler='edgegrab', samplerargs=[xi,])\n",
    "    active_qubits = [q for q in c.line_labels]\n",
    "    c = pygsti.circuits.Circuit(c.str.split('@')[0] + '@(0,1,2,3)')\n",
    "    circuits.append(sf.order_circuit(c))\n",
    "\n",
    "file_name = 'mirrored_random_clifford_circuits_v1_instance_0'\n",
    "\n",
    "pygsti.io.write_circuit_list(path + '/circuits/' + file_name + '.txt', circuits)\n",
    "with open(path + '/circuits/' + file_name + '_params.pkl', 'wb') as f:\n",
    "    sample_params = {}\n",
    "    pickle.dump({'widths':ws, 'depths':ds, 'two_q_densities':two_q_densities, 'qubits':qubitslist}, f)"
   ]
  },
  {
   "cell_type": "code",
   "execution_count": 63,
   "metadata": {},
   "outputs": [],
   "source": [
    "max_mirror_depth = max([c.depth for c in circuits])\n",
    "assert(max_mirror_depth <= 6*max_c_depth), 'You have some mirror circuits that are too long! Be sure to remove them later!'"
   ]
  },
  {
   "cell_type": "code",
   "execution_count": 64,
   "metadata": {},
   "outputs": [
    {
     "name": "stdout",
     "output_type": "stream",
     "text": [
      "Done\n"
     ]
    }
   ],
   "source": [
    "print('Done')"
   ]
  },
  {
   "cell_type": "code",
   "execution_count": null,
   "metadata": {},
   "outputs": [],
   "source": []
  }
 ],
 "metadata": {
  "kernelspec": {
   "display_name": "QPL",
   "language": "python",
   "name": "python3"
  },
  "language_info": {
   "codemirror_mode": {
    "name": "ipython",
    "version": 3
   },
   "file_extension": ".py",
   "mimetype": "text/x-python",
   "name": "python",
   "nbconvert_exporter": "python",
   "pygments_lexer": "ipython3",
   "version": "3.8.8"
  }
 },
 "nbformat": 4,
 "nbformat_minor": 2
}
