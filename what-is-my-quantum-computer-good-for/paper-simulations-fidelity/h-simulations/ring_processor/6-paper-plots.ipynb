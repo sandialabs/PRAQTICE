{
 "cells": [
  {
   "cell_type": "code",
   "execution_count": 1,
   "metadata": {},
   "outputs": [
    {
     "name": "stderr",
     "output_type": "stream",
     "text": [
      "2024-05-21 21:53:27.824452: I tensorflow/core/platform/cpu_feature_guard.cc:182] This TensorFlow binary is optimized to use available CPU instructions in performance-critical operations.\n",
      "To enable the following instructions: AVX2 FMA, in other operations, rebuild TensorFlow with the appropriate compiler flags.\n",
      "/opt/anaconda3/envs/QPL/lib/python3.8/site-packages/scipy/__init__.py:146: UserWarning: A NumPy version >=1.16.5 and <1.23.0 is required for this version of SciPy (detected version 1.24.3\n",
      "  warnings.warn(f\"A NumPy version >={np_minversion} and <{np_maxversion}\"\n"
     ]
    }
   ],
   "source": [
    "import numpy as np\n",
    "import pandas as pd\n",
    "import os\n",
    "\n",
    "import matplotlib.pyplot as plt\n",
    "\n",
    "from tensorflow.keras.losses import BinaryCrossentropy\n",
    "\n",
    "\n",
    "# a is the actual values while b is the predictions\n",
    "def bce(a, b):\n",
    "    return BinaryCrossentropy(from_logits = False)(a,b).numpy()\n",
    "\n",
    "dtypes = ['train', 'validate', 'test']"
   ]
  },
  {
   "cell_type": "code",
   "execution_count": 502,
   "metadata": {},
   "outputs": [],
   "source": [
    "dtypes = ['train', 'validate', 'test']\n",
    "\n",
    "metric_functions = {'r': lambda x, y: np.corrcoef(x, y)[0,1],\n",
    "                    'kl': lambda x, y: bce(x, y) - bce(x, x),\n",
    "                    'l1': lambda x, y: np.mean(np.abs(x - y))\n",
    "                   }\n",
    "metric_names = {'r': 'Pearson Correlation Coefficient',\n",
    "               'kl': 'Kullback-Leibler Divergence',\n",
    "               'l1': 'Mean absolute error (%)'}\n",
    "\n",
    "metric_labels = {'l1': 'Mean absolute error (\\%)'}\n",
    "\n",
    "model_predictions = {'cnn': 'processed_cnn_predictions.npz', 'custom-nn': 'processed_custom_neural_net_predictions.npz'}\n",
    "model_mirrored_predictions = {'cnn': 'processed_cnn_mirrored_predictions.npz', 'custom-nn': 'processed_custom_neural_net_mirrored_predictions.npz'}\n",
    "\n",
    "model_colors = {'cnn': (1.0, 0.4980392156862745, 0.054901960784313725), 'ground': 'tab:green', 'custom-nn': (0.12156862745098039, 0.4666666666666667, 0.7058823529411765)}\n",
    "\n",
    "model_sizes = {'cnn': 100, 'custom-nn': 100}\n",
    "model_shapes = {'cnn': 'P', 'custom-nn': 'o'}\n",
    "\n",
    "model_alphas = {'cnn': .55, 'custom-nn': .75}\n",
    "model_hist_alphas = {'cnn': .55, 'custom-nn': 1}\n",
    "\n",
    "# circuit_error_yticks = {'random': np.linspace(-8,8,9), 'mirror-circuits': np.linspace(-8,8, 9)}\n",
    "# circuit_error_xticks = {'random': np.linspace(90, 100, 6), 'mirror-circuits': np.linspace(90, 100, 6)}\n",
    "\n",
    "\n",
    "model_label_names = {'cnn': 'CNN', 'custom-nn': 'qpa-NN'}"
   ]
  },
  {
   "cell_type": "markdown",
   "metadata": {},
   "source": [
    "# Prediction errors"
   ]
  },
  {
   "cell_type": "code",
   "execution_count": 503,
   "metadata": {},
   "outputs": [],
   "source": [
    "def error_scatter_hist(ground_truth, predictions, model_types, save = False, title = True, circuit_type = 'random'):\n",
    "    fig = plt.figure(figsize=(10, 6), dpi = 300)\n",
    "\n",
    "    gs = fig.add_gridspec(2, 2, width_ratios = (4, 1), height_ratios=(1, 4),\n",
    "                      left=0.1, right=0.9, bottom=0.1, top=0.9,\n",
    "                      wspace=0.05, hspace=0.05)\n",
    "\n",
    "    ax = fig.add_subplot(gs[1, 0])\n",
    "    ax_histy = fig.add_subplot(gs[0, 0], sharex=ax)\n",
    "    ax_histx = fig.add_subplot(gs[1,1], sharey=ax)\n",
    "\n",
    "    for model_type in model_types[::-1]:\n",
    "        abs_error = np.abs(predictions[model_type])\n",
    "        mean_abs_error = np.mean(abs_error)\n",
    "        label_text = model_label_names[model_type] + ', MAE = {:.3g}%'.format(mean_abs_error)\n",
    "        ax.scatter(x = ground_truth, y = predictions[model_type], color = model_colors[model_type],\n",
    "                   alpha=model_alphas[model_type], marker = model_shapes[model_type], label = label_text)\n",
    "        \n",
    "    ### Include logic to get the window size ###\n",
    "    \n",
    "    x_min, x_max = min(exp_xlims[exp_num]), max(exp_xlims[exp_num])\n",
    "    y_min, y_max = min(exp_ylims[exp_num]), max(exp_ylims[exp_num])\n",
    "\n",
    "    ax.plot([x_min,x_max], [0,0], color = 'black')\n",
    "    ax.fill_between([x_min, x_max], [x_max - x_min,0], [x_max - x_min,x_max - x_min], color = 'grey', alpha = .1)\n",
    "    # ax.fill_between([x_min, x_max], [0,x_min - x_max], [x_min - x_max,x_min - x_max], color = 'grey', alpha = .1)\n",
    "\n",
    "    ### Add logic to get consistent bins ###\n",
    "    g_bins = np.linspace(x_min, x_max, 40)\n",
    "    \n",
    "    ax_histy.hist(ground_truth, bins = g_bins, color = model_colors['ground'], orientation='vertical', label = 'Fidelity (%)')\n",
    "    ax_histy.legend(fontsize = 14)\n",
    "        \n",
    "    p_bins = np.linspace(y_min, y_max, 40)\n",
    "    for model_type in model_types:\n",
    "        ax_histx.hist(predictions[model_type], bins = p_bins, color = model_colors[model_type], \n",
    "                      orientation = 'horizontal', alpha = model_hist_alphas[model_type])\n",
    "                \n",
    "    ax_histy.tick_params(axis=\"x\", labelbottom=False)\n",
    "    ax_histy.tick_params(axis = 'y', labelsize = 13)\n",
    "    \n",
    "    ax_histx.tick_params(axis=\"y\", labelleft=False)\n",
    "    ax_histx.tick_params(axis = 'x', labelsize = 13)\n",
    "    ax_histx.xaxis.tick_top()\n",
    "\n",
    "    ax.set_xlim(left = x_min, right = x_max)\n",
    "    ax.set_ylim(bottom = y_min, top = y_max)\n",
    "\n",
    "    ax.yaxis.set_ticks(exp_yticks[exp_num])\n",
    "    ax.xaxis.set_ticks(exp_xticks[exp_num])\n",
    "\n",
    "    \n",
    "    ax.xaxis.set_tick_params(labelsize = 16)\n",
    "    ax.yaxis.set_tick_params(labelsize = 16)\n",
    "    \n",
    "    ax.legend(fontsize = 18)\n",
    "    ax.set_xlabel('Fidelity (%)', fontsize = 20)\n",
    "    ax.set_ylabel('Prediction error (%)', fontsize = 20)\n",
    "    if title is True:\n",
    "        fig.suptitle('{} Error Model'.format(noise_name), fontsize = 22)\n",
    "    if save is False:\n",
    "        plt.show()\n",
    "    else:\n",
    "        plt.savefig(plot_path + 'prediction-plots/simulation-{}-{}-prediction-errors-histogram-plot.png'.format(exp_num, circuit_type), dpi = 300, bbox_inches = 'tight')\n",
    "    # if 'stab' in model_types:\n",
    "    #     plt.savefig(plot_path+'/non-markovian-combined-scatter-histogram-{}-noise-stab-no-stab.png'.format(noise_save_name), dpi = 300, bbox_inches = 'tight')    \n",
    "    # else:\n",
    "    #     plt.savefig(plot_path+'/non-markovian-combined-scatter-histogram-{}-noise.png'.format(noise_save_name), dpi = 300, bbox_inches = 'tight')\n",
    "    plt.close()"
   ]
  },
  {
   "cell_type": "markdown",
   "metadata": {},
   "source": [
    "# Random circuits prediction errors"
   ]
  },
  {
   "cell_type": "code",
   "execution_count": 528,
   "metadata": {},
   "outputs": [],
   "source": [
    "exp_num = 4\n",
    "exp_path = f'./experiment_{exp_num}/'\n",
    "pred_path = exp_path + '/predictions/'\n",
    "inf_path = exp_path + '/processed_inputs_and_outputs/'\n",
    "plot_path = '../../../paper-plots/simulations/'"
   ]
  },
  {
   "cell_type": "code",
   "execution_count": 529,
   "metadata": {},
   "outputs": [],
   "source": [
    "exp_ylims = {0: [-4.25,8.5], 1: [-4.25, 8.5], 2: [-4.25, 8.5], 3: [-4.25, 8.5], 4: [-4.25, 8.5]}\n",
    "exp_yticks = {0: [-4, -2, 0, 2, 4, 6, 8], 1: [-4, -2, 0, 2, 4, 6, 8], 2: [-4, -2, 0, 2, 4, 6, 8],\n",
    "              3: [-4, -2, 0, 2, 4, 6, 8], 4: [-4, -2, 0, 2, 4, 6, 8]}\n",
    "\n",
    "exp_xlims = {0: [90, 100], 1: [92, 100], 2: [87.5, 100], 3: [92, 100], 4: [90, 100]}\n",
    "exp_xticks = {0: np.linspace(90, 100, 6), 1: np.linspace(92, 100, 5), 2: np.linspace(88, 100, 4), \n",
    "              3: np.linspace(92, 100, 5), 4: np.linspace(90, 100, 6)}"
   ]
  },
  {
   "cell_type": "code",
   "execution_count": 530,
   "metadata": {},
   "outputs": [],
   "source": [
    "dtypes = ['train', 'validate', 'test']\n",
    "\n",
    "model_types = ['custom-nn', 'cnn']\n",
    "circuits = 'test'"
   ]
  },
  {
   "cell_type": "code",
   "execution_count": 531,
   "metadata": {},
   "outputs": [],
   "source": [
    "infidelities = np.load(inf_path + 'processed_infidelities.npz')\n",
    "spss = {dt: 100*(1 - infidelities[dt] / 10000) for dt in dtypes}\n",
    "\n",
    "m_predictions = {m: None for m in model_types}\n",
    "\n",
    "for model in model_types:\n",
    "    predictions = np.load(pred_path + model_predictions[model])\n",
    "\n",
    "    if model in ['custom-nn']:\n",
    "        m_predictions[model] = 100*(1 - predictions[circuits] / 10000) - spss[circuits]\n",
    "    else:\n",
    "        m_predictions[model] = 100*(1 - predictions[circuits] / 10000).reshape((-1,)) - spss[circuits]"
   ]
  },
  {
   "cell_type": "code",
   "execution_count": 532,
   "metadata": {},
   "outputs": [],
   "source": [
    "error_scatter_hist(ground_truth=spss[circuits], predictions=m_predictions,\n",
    "             model_types = model_types, save = True, title = False)"
   ]
  },
  {
   "cell_type": "code",
   "execution_count": 533,
   "metadata": {},
   "outputs": [
    {
     "name": "stdout",
     "output_type": "stream",
     "text": [
      "Done with 4\n"
     ]
    }
   ],
   "source": [
    "print(f'Done with {exp_num}')"
   ]
  },
  {
   "cell_type": "markdown",
   "metadata": {},
   "source": [
    "# Mirror circuits prediction errors"
   ]
  },
  {
   "cell_type": "code",
   "execution_count": 558,
   "metadata": {},
   "outputs": [],
   "source": [
    "exp_num = 4\n",
    "exp_path = f'./experiment_{exp_num}/'\n",
    "pred_path = exp_path + '/predictions/'\n",
    "inf_path = exp_path + '/processed_inputs_and_outputs/'\n",
    "plot_path = '../../../paper-plots/simulations/'"
   ]
  },
  {
   "cell_type": "code",
   "execution_count": 559,
   "metadata": {},
   "outputs": [],
   "source": [
    "exp_ylims = {0: [-6.5,10.5], 1: [-5.5, 15.5], 2: [-6, 8.5], 3: [-5, 10], 4: [-6, 10]}\n",
    "exp_yticks = {0: [-6, -4, -2, 0, 2, 4, 6, 8, 10], 1: [-5, 0, 5, 10, 15], 2: [-4, 0, 4, 8],\n",
    "              3: [-4, -2, 0, 2, 4, 6, 8], 4: [-4, -2, 0, 2, 4, 6, 8]}\n",
    "\n",
    "exp_xlims = {0: [84, 100], 1: [84, 100], 2: [85, 100], 3: [84, 100], 4: [87, 100]}\n",
    "exp_xticks = {0: np.linspace(85, 100, 4), 1: np.linspace(85, 100, 4), 2: np.linspace(85, 100, 4), \n",
    "              3: np.linspace(84, 100, 5), 4: np.linspace(88, 100, 4)}"
   ]
  },
  {
   "cell_type": "code",
   "execution_count": 560,
   "metadata": {},
   "outputs": [],
   "source": [
    "dtypes = ['train', 'validate', 'test']\n",
    "\n",
    "model_types = ['custom-nn', 'cnn']\n",
    "circuits = 'test'\n",
    "\n",
    "model_predictions = {'custom-nn': 'processed_custom_neural_net_mirrored_predictions.npz',\n",
    "                     'cnn': 'processed_cnn_mirrored_predictions.npz'}"
   ]
  },
  {
   "cell_type": "code",
   "execution_count": 561,
   "metadata": {},
   "outputs": [],
   "source": [
    "infidelities = np.load(inf_path + 'processed_mirrored_infidelities.npz')['infidelities']\n",
    "spss = 100*(1 - infidelities / 10000)\n",
    "\n",
    "m_predictions = {m: None for m in model_types}\n",
    "\n",
    "for model in model_types:\n",
    "    predictions = np.load(pred_path + model_predictions[model])['predictions']\n",
    "\n",
    "    if model in ['custom-nn']:\n",
    "        m_predictions[model] = 100*(1 - predictions / 10000) - spss\n",
    "    else:\n",
    "        m_predictions[model] = 100*(1 - predictions / 10000).reshape((-1,)) - spss"
   ]
  },
  {
   "cell_type": "code",
   "execution_count": 562,
   "metadata": {},
   "outputs": [],
   "source": [
    "error_scatter_hist(ground_truth=spss, predictions=m_predictions,\n",
    "             model_types = model_types, save = True, title = False, circuit_type='mirror-circuits')"
   ]
  },
  {
   "cell_type": "code",
   "execution_count": 563,
   "metadata": {},
   "outputs": [
    {
     "name": "stdout",
     "output_type": "stream",
     "text": [
      "Done with 4\n"
     ]
    }
   ],
   "source": [
    "print(f'Done with {exp_num}')"
   ]
  },
  {
   "cell_type": "markdown",
   "metadata": {},
   "source": []
  }
 ],
 "metadata": {
  "kernelspec": {
   "display_name": "QPL",
   "language": "python",
   "name": "python3"
  },
  "language_info": {
   "codemirror_mode": {
    "name": "ipython",
    "version": 3
   },
   "file_extension": ".py",
   "mimetype": "text/x-python",
   "name": "python",
   "nbconvert_exporter": "python",
   "pygments_lexer": "ipython3",
   "version": "3.8.8"
  }
 },
 "nbformat": 4,
 "nbformat_minor": 2
}
